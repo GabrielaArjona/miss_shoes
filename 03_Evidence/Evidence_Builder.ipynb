{
  "cells": [
    {
      "cell_type": "markdown",
      "metadata": {},
      "source": [
        "# Evidence Ledger Builder\n",
        "\n",
        "**Goal:** Build a signed ledger (`03_Evidence/hashes/ledger.csv`) for audit evidence without moving files."
      ]
    },
    {
      "cell_type": "code",
      "execution_count": 8,
      "id": "d16f5c73",
      "metadata": {},
      "outputs": [
        {
          "name": "stdout",
          "output_type": "stream",
          "text": [
            "C:\\Project\\Miss Shoes\n",
            "C:\\Project\\Miss Shoes\\03_evidence\n",
            "C:\\Project\\Miss Shoes\\03_evidence\\ledger.csv\n"
          ]
        }
      ],
      "source": [
        "from pathlib import Path\n",
        "from datetime import datetime\n",
        "import csv, hashlib\n",
        "import pandas as pd\n",
        "\n",
        "BASE = Path('..').resolve()\n",
        "print(BASE)\n",
        "\n",
        "ROOT   = BASE / '03_evidence'              \n",
        "LEDGER = ROOT / \"ledger.csv\" \n",
        "print(ROOT)\n",
        "print(LEDGER)\n"
      ]
    },
    {
      "cell_type": "code",
      "execution_count": null,
      "id": "0ddfbf5e",
      "metadata": {},
      "outputs": [
        {
          "name": "stdout",
          "output_type": "stream",
          "text": [
            "[ADD] 01_Case\\A_Log_Detections\\outputs\\alerts_evidence.csv  csv  SHA256=c2da568f...\n",
            "[ADD] 01_Case\\B_Config_ChangeMgmt\\outputs\\config_drift_evidence.csv  csv  SHA256=7917588a...\n",
            "[ADD] 01_Case\\C_Privacy_DSAR\\outputs\\dsar_log_evidence.csv  csv  SHA256=6e481d3f...\n",
            "[ADD] 01_Case\\C_Privacy_DSAR\\outputs\\customers_DSAR-20250911-02.csv  csv  SHA256=6fa9b877...\n",
            "[ADD] 01_Case\\C_Privacy_DSAR\\outputs\\customers_DSAR-20250911-05.csv  csv  SHA256=eb32688c...\n",
            "[ADD] 01_Case\\C_Privacy_DSAR\\outputs\\customers_DSAR-20250911-08.csv  csv  SHA256=7e65790a...\n",
            "[ADD] 01_Case\\C_Privacy_DSAR\\outputs\\delete_preview_DSAR-20250911-03.csv  csv  SHA256=e242e602...\n",
            "[ADD] 01_Case\\C_Privacy_DSAR\\outputs\\delete_preview_DSAR-20250911-07.csv  csv  SHA256=e242e602...\n",
            "[ADD] 01_Case\\C_Privacy_DSAR\\outputs\\dsar_DSAR-20250911-02.zip  zip  SHA256=5e392ca2...\n",
            "[ADD] 01_Case\\C_Privacy_DSAR\\outputs\\dsar_DSAR-20250911-05.zip  zip  SHA256=455a7404...\n",
            "[ADD] 01_Case\\C_Privacy_DSAR\\outputs\\dsar_DSAR-20250911-08.zip  zip  SHA256=922ca933...\n",
            "\n",
            "11 entries appended to ledger: C:\\Project\\Miss Shoes\\03_evidence\\ledger.csv\n"
          ]
        }
      ],
      "source": [
        "SIGNER = \" Arjona_002 / GRC\"    \n",
        "ENVIRONMENT = \"non-prod\"\n",
        "PII_FLAG_DEFAULT = \"synthetic\"\n",
        "\n",
        "def ensure_header(csv_path: Path, header):\n",
        "    csv_path.parent.mkdir(parents=True, exist_ok=True)\n",
        "    if not csv_path.exists():\n",
        "        with open(csv_path, \"w\", newline=\"\", encoding=\"utf-8\") as f:\n",
        "            csv.writer(f).writerow(header)\n",
        "\n",
        "def sha256sum(p: Path) -> str:\n",
        "    h = hashlib.sha256()\n",
        "    with open(p, \"rb\") as f:\n",
        "        for chunk in iter(lambda: f.read(8192), b\"\"):\n",
        "            h.update(chunk)\n",
        "    return h.hexdigest()\n",
        "\n",
        "def artifact_type_from_path(p: Path) -> str:\n",
        "    ext = p.suffix.lower().lstrip(\".\")\n",
        "    if ext == \"\":\n",
        "        return \"file\"\n",
        "    return ext\n",
        "\n",
        "def to_path(s: str) -> Path:\n",
        "    p = Path(s)\n",
        "    \n",
        "    if not p.is_absolute():\n",
        "       \n",
        "        p = (ROOT.parent / p).resolve()\n",
        "    return p\n",
        "\n",
        "\n",
        "HEADER = [\"artifact_path\",\"artifact_type\",\"control_id\",\"run_id\",\"timestamp_utc\",\n",
        "          \"sha256\",\"signer\",\"environment\",\"pii_flag\",\"notes\"]\n",
        "ensure_header(LEDGER, HEADER)\n",
        "\n",
        "\n",
        "ARTIFACTS = [\n",
        "    '01_Case/A_Log_Detections/outputs/alerts_evidence.csv',\n",
        "    '01_Case/B_Config_ChangeMgmt/outputs/config_drift_evidence.csv',\n",
        "    '01_Case/C_Privacy_DSAR/outputs/dsar_log_evidence.csv',\n",
        "    '01_Case/C_Privacy_DSAR/outputs/customers_DSAR-20250911-02.csv',\n",
        "    '01_Case/C_Privacy_DSAR/outputs/customers_DSAR-20250911-05.csv',\n",
        "    '01_Case/C_Privacy_DSAR/outputs/customers_DSAR-20250911-08.csv',\n",
        "    '01_Case/C_Privacy_DSAR/outputs/delete_preview_DSAR-20250911-03.csv',\n",
        "    '01_Case/C_Privacy_DSAR/outputs/delete_preview_DSAR-20250911-07.csv',\n",
        "    '01_Case/C_Privacy_DSAR/outputs/dsar_DSAR-20250911-02.zip',\n",
        "    '01_Case/C_Privacy_DSAR/outputs/dsar_DSAR-20250911-05.zip',\n",
        "    '01_Case/C_Privacy_DSAR/outputs/dsar_DSAR-20250911-08.zip',\n",
        "]\n",
        "\n",
        "\n",
        "files = [to_path(s) for s in ARTIFACTS]\n",
        "\n",
        "\n",
        "existing = set()\n",
        "if LEDGER.exists():\n",
        "    with open(LEDGER, \"r\", encoding=\"utf-8\") as f:\n",
        "        for row in csv.DictReader(f):\n",
        "            existing.add((row.get(\"artifact_path\",\"\"), row.get(\"sha256\",\"\")))\n",
        "\n",
        "\n",
        "rows_to_append = []\n",
        "for p in files:\n",
        "    if not p.exists():\n",
        "        print(f\"[WARN] Not found: {p}\")\n",
        "        continue\n",
        "    rel = str(p.relative_to(ROOT.parent))  \n",
        "    digest = sha256sum(p)\n",
        "    if (rel, digest) in existing:\n",
        "        print(f\"[SKIP] Already recorded: {rel}  SHA256={digest[:8]}...\")\n",
        "        continue\n",
        "  \n",
        "    artifact_type = artifact_type_from_path(p)\n",
        "    control_id = \"\"   \n",
        "    run_id = datetime.now().strftime(\"%Y%m%dT%H%M%SZ\")\n",
        "    timestamp_utc = datetime.now().strftime(\"%Y-%m-%dT%H:%M:%SZ\")\n",
        "    signer = SIGNER\n",
        "    environment = ENVIRONMENT\n",
        "    pii_flag = PII_FLAG_DEFAULT\n",
        "    notes = \"\"\n",
        "    row = {\n",
        "        \"artifact_path\": rel,\n",
        "        \"artifact_type\": artifact_type,\n",
        "        \"control_id\": control_id,\n",
        "        \"run_id\": run_id,\n",
        "        \"timestamp_utc\": timestamp_utc,\n",
        "        \"sha256\": digest,\n",
        "        \"signer\": signer,\n",
        "        \"environment\": environment,\n",
        "        \"pii_flag\": pii_flag,\n",
        "        \"notes\": notes,\n",
        "    }\n",
        "    rows_to_append.append(row)\n",
        "    print(f\"[ADD] {rel}  {artifact_type}  SHA256={digest[:8]}...\")\n",
        "\n",
        "\n",
        "if rows_to_append:\n",
        "    with open(LEDGER, \"a\", newline=\"\", encoding=\"utf-8\") as f:\n",
        "        w = csv.DictWriter(f, fieldnames=HEADER)\n",
        "        for r in rows_to_append:\n",
        "            w.writerow(r)\n",
        "    print(f\"\\n{len(rows_to_append)} entries appended to ledger: {LEDGER}\")\n",
        "else:\n",
        "    print(\"\\nNo new artifacts to append.\")\n"
      ]
    },
    {
      "cell_type": "markdown",
      "metadata": {},
      "source": [
        "### Security note (public portfolio)\n",
        "- Publish hashes only for **synthetic/non-sensitive** artifacts in public repos.\n",
        "- Never publish secrets/PII.\n"
      ]
    }
  ],
  "metadata": {
    "kernelspec": {
      "display_name": "Python 3",
      "language": "python",
      "name": "python3"
    },
    "language_info": {
      "codemirror_mode": {
        "name": "ipython",
        "version": 3
      },
      "file_extension": ".py",
      "mimetype": "text/x-python",
      "name": "python",
      "nbconvert_exporter": "python",
      "pygments_lexer": "ipython3",
      "version": "3.12.10"
    }
  },
  "nbformat": 4,
  "nbformat_minor": 5
}
