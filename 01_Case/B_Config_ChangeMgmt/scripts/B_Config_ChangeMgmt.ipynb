{
 "cells": [
  {
   "cell_type": "markdown",
   "id": "12685b32",
   "metadata": {},
   "source": [
    "# B) Configuration & Change Management\n",
    "Goal: compare a security baseline (YAML) vs an actual config (nginx-like text) and produce a drift report.\n",
    "\n",
    "- Read YAML (baseline)\n",
    "- Inspect a config file (as text)\n",
    "- Export drift results to CSV"
   ]
  },
  {
   "cell_type": "code",
   "execution_count": 6,
   "id": "44f1487e",
   "metadata": {},
   "outputs": [
    {
     "name": "stdout",
     "output_type": "stream",
     "text": [
      "Base path: C:\\Project\\Miss Shoes\\01_Case\\B_Config_ChangeMgmt\n"
     ]
    }
   ],
   "source": [
    "from pathlib import Path\n",
    "import re, pandas as pd\n",
    "\n",
    "BASE = Path('..').resolve()\n",
    "print('Base path:', BASE)"
   ]
  },
  {
   "cell_type": "code",
   "execution_count": 18,
   "id": "016b6d2f",
   "metadata": {},
   "outputs": [
    {
     "name": "stdout",
     "output_type": "stream",
     "text": [
      "Baseline keys: ['tls_min_version', 'hsts', 'server_tokens', 'content_security_policy', 'rate_limit', 'logging']\n",
      "Actual (snippet):\n",
      " ssl_protocols TLSv1 TLSv1.1 TLSv1.2;\n",
      "# missing HSTS\n",
      "server_tokens on;\n",
      "add_header Content-Security-Policy \"default-src 'self' 'unsafe-inline'\";\n",
      "# limit_req disabled\n",
      "access_log on;\n",
      "\n"
     ]
    }
   ],
   "source": [
    "import json\n",
    "\n",
    "with open(BASE/'config'/'baseline.json') as f:\n",
    "    baseline = json.load(f)\n",
    "with open(BASE/'config'/'actual.conf') as f:\n",
    "    actual = f.read()\n",
    "print('Baseline keys:', list(baseline.keys()))\n",
    "print('Actual (snippet):\\n', actual[:200])"
   ]
  },
  {
   "cell_type": "code",
   "execution_count": 19,
   "id": "aa78751b",
   "metadata": {},
   "outputs": [
    {
     "data": {
      "text/html": [
       "<div>\n",
       "<style scoped>\n",
       "    .dataframe tbody tr th:only-of-type {\n",
       "        vertical-align: middle;\n",
       "    }\n",
       "\n",
       "    .dataframe tbody tr th {\n",
       "        vertical-align: top;\n",
       "    }\n",
       "\n",
       "    .dataframe thead th {\n",
       "        text-align: right;\n",
       "    }\n",
       "</style>\n",
       "<table border=\"1\" class=\"dataframe\">\n",
       "  <thead>\n",
       "    <tr style=\"text-align: right;\">\n",
       "      <th></th>\n",
       "      <th>control_id</th>\n",
       "      <th>description</th>\n",
       "      <th>severity</th>\n",
       "      <th>status</th>\n",
       "      <th>remediation</th>\n",
       "    </tr>\n",
       "  </thead>\n",
       "  <tbody>\n",
       "    <tr>\n",
       "      <th>0</th>\n",
       "      <td>C-TLS</td>\n",
       "      <td>TLS &gt;= 1.2</td>\n",
       "      <td>High</td>\n",
       "      <td>DRIFT</td>\n",
       "      <td>Disable TLSv1/1.1; enforce TLSv1.2+</td>\n",
       "    </tr>\n",
       "    <tr>\n",
       "      <th>1</th>\n",
       "      <td>C-HSTS</td>\n",
       "      <td>HSTS enabled</td>\n",
       "      <td>Medium</td>\n",
       "      <td>OK</td>\n",
       "      <td>Add HSTS with max-age&gt;=31536000</td>\n",
       "    </tr>\n",
       "    <tr>\n",
       "      <th>2</th>\n",
       "      <td>C-SERVER-TOKENS</td>\n",
       "      <td>server_tokens off</td>\n",
       "      <td>Low</td>\n",
       "      <td>OK</td>\n",
       "      <td>Set server_tokens off</td>\n",
       "    </tr>\n",
       "    <tr>\n",
       "      <th>3</th>\n",
       "      <td>C-CSP</td>\n",
       "      <td>CSP restrictive</td>\n",
       "      <td>Medium</td>\n",
       "      <td>DRIFT</td>\n",
       "      <td>Use CSP 'default-src self', remove 'unsafe-inl...</td>\n",
       "    </tr>\n",
       "    <tr>\n",
       "      <th>4</th>\n",
       "      <td>C-RATE</td>\n",
       "      <td>Rate limiting enabled</td>\n",
       "      <td>Medium</td>\n",
       "      <td>OK</td>\n",
       "      <td>Enable rate limiting (e.g., 100r/m)</td>\n",
       "    </tr>\n",
       "    <tr>\n",
       "      <th>5</th>\n",
       "      <td>C-LOG</td>\n",
       "      <td>Access logging enabled</td>\n",
       "      <td>Low</td>\n",
       "      <td>OK</td>\n",
       "      <td>Enable access_log and centralize logs</td>\n",
       "    </tr>\n",
       "  </tbody>\n",
       "</table>\n",
       "</div>"
      ],
      "text/plain": [
       "        control_id             description severity status  \\\n",
       "0            C-TLS              TLS >= 1.2     High  DRIFT   \n",
       "1           C-HSTS            HSTS enabled   Medium     OK   \n",
       "2  C-SERVER-TOKENS       server_tokens off      Low     OK   \n",
       "3            C-CSP         CSP restrictive   Medium  DRIFT   \n",
       "4           C-RATE   Rate limiting enabled   Medium     OK   \n",
       "5            C-LOG  Access logging enabled      Low     OK   \n",
       "\n",
       "                                         remediation  \n",
       "0                Disable TLSv1/1.1; enforce TLSv1.2+  \n",
       "1                    Add HSTS with max-age>=31536000  \n",
       "2                              Set server_tokens off  \n",
       "3  Use CSP 'default-src self', remove 'unsafe-inl...  \n",
       "4                Enable rate limiting (e.g., 100r/m)  \n",
       "5              Enable access_log and centralize logs  "
      ]
     },
     "execution_count": 19,
     "metadata": {},
     "output_type": "execute_result"
    }
   ],
   "source": [
    "# Define simple checks\n",
    "import re\n",
    "\n",
    "def has(pattern, text):\n",
    "    return re.search(pattern, text, re.I|re.M) is not None\n",
    "\n",
    "checks = [\n",
    "    ('C-TLS','TLS >= 1.2','High', lambda t: not has(r\"ssl_protocols.*TLSv1(\\s|;)|TLSv1\\.1\", t), 'Disable TLSv1/1.1; enforce TLSv1.2+'),\n",
    "    ('C-HSTS','HSTS enabled','Medium', lambda t: has(r\"Strict-Transport-Security\", t) or (baseline.get('hsts',{}).get('enabled',False) and baseline['hsts'].get('max_age',0)>=31536000), 'Add HSTS with max-age>=31536000'),\n",
    "    ('C-SERVER-TOKENS','server_tokens off','Low', lambda t: has(r\"server_tokens\\\\s+off\", t) or baseline.get('server_tokens','off')=='off', 'Set server_tokens off'),\n",
    "    ('C-CSP','CSP restrictive','Medium', lambda t: has(r\"Content-Security-Policy\\\\s+\\\"default-src 'self'\", t), \"Use CSP 'default-src self', remove 'unsafe-inline'\"),\n",
    "    ('C-RATE','Rate limiting enabled','Medium', lambda t: has(r\"limit_req\", t) or 'rate_limit' in baseline, 'Enable rate limiting (e.g., 100r/m)'),\n",
    "    ('C-LOG','Access logging enabled','Low', lambda t: has(r\"access_log\\\\s+on\", t) or baseline.get('logging',{}).get('enabled',False), 'Enable access_log and centralize logs'),\n",
    "]\n",
    "\n",
    "rows = []\n",
    "for cid, desc, sev, fn, rem in checks:\n",
    "    ok = fn(actual)\n",
    "    rows.append({'control_id':cid,'description':desc,'severity':sev,'status':'OK' if ok else 'DRIFT','remediation':rem})\n",
    "\n",
    "import pandas as pd\n",
    "drift = pd.DataFrame(rows)\n",
    "drift"
   ]
  },
  {
   "cell_type": "code",
   "execution_count": 20,
   "id": "c8258808",
   "metadata": {},
   "outputs": [
    {
     "data": {
      "text/plain": [
       "WindowsPath('C:/Project/Miss Shoes/01_Case/B_Config_ChangeMgmt/outputs/config_drift_evidence.csv')"
      ]
     },
     "execution_count": 20,
     "metadata": {},
     "output_type": "execute_result"
    }
   ],
   "source": [
    "# Save as evidence\n",
    "out_csv = BASE/'outputs'/'config_drift_evidence.csv'\n",
    "drift.to_csv(out_csv, index=False)\n",
    "out_csv"
   ]
  },
  {
   "cell_type": "code",
   "execution_count": 21,
   "id": "cb1d07bf",
   "metadata": {},
   "outputs": [
    {
     "data": {
      "text/html": [
       "<div>\n",
       "<style scoped>\n",
       "    .dataframe tbody tr th:only-of-type {\n",
       "        vertical-align: middle;\n",
       "    }\n",
       "\n",
       "    .dataframe tbody tr th {\n",
       "        vertical-align: top;\n",
       "    }\n",
       "\n",
       "    .dataframe thead th {\n",
       "        text-align: right;\n",
       "    }\n",
       "</style>\n",
       "<table border=\"1\" class=\"dataframe\">\n",
       "  <thead>\n",
       "    <tr style=\"text-align: right;\">\n",
       "      <th></th>\n",
       "      <th>status</th>\n",
       "      <th>severity</th>\n",
       "      <th>count</th>\n",
       "    </tr>\n",
       "  </thead>\n",
       "  <tbody>\n",
       "    <tr>\n",
       "      <th>0</th>\n",
       "      <td>DRIFT</td>\n",
       "      <td>High</td>\n",
       "      <td>1</td>\n",
       "    </tr>\n",
       "    <tr>\n",
       "      <th>1</th>\n",
       "      <td>DRIFT</td>\n",
       "      <td>Medium</td>\n",
       "      <td>1</td>\n",
       "    </tr>\n",
       "    <tr>\n",
       "      <th>2</th>\n",
       "      <td>OK</td>\n",
       "      <td>Low</td>\n",
       "      <td>2</td>\n",
       "    </tr>\n",
       "    <tr>\n",
       "      <th>3</th>\n",
       "      <td>OK</td>\n",
       "      <td>Medium</td>\n",
       "      <td>2</td>\n",
       "    </tr>\n",
       "  </tbody>\n",
       "</table>\n",
       "</div>"
      ],
      "text/plain": [
       "  status severity  count\n",
       "0  DRIFT     High      1\n",
       "1  DRIFT   Medium      1\n",
       "2     OK      Low      2\n",
       "3     OK   Medium      2"
      ]
     },
     "execution_count": 21,
     "metadata": {},
     "output_type": "execute_result"
    }
   ],
   "source": [
    "# Counts by status/severity for report\n",
    "summary = drift.groupby(['status','severity']).size().reset_index(name='count')\n",
    "summary"
   ]
  }
 ],
 "metadata": {
  "kernelspec": {
   "display_name": "Python 3",
   "language": "python",
   "name": "python3"
  },
  "language_info": {
   "codemirror_mode": {
    "name": "ipython",
    "version": 3
   },
   "file_extension": ".py",
   "mimetype": "text/x-python",
   "name": "python",
   "nbconvert_exporter": "python",
   "pygments_lexer": "ipython3",
   "version": "3.12.10"
  }
 },
 "nbformat": 4,
 "nbformat_minor": 5
}
